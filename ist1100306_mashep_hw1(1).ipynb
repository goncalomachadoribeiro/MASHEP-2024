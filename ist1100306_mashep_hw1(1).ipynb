{
  "nbformat": 4,
  "nbformat_minor": 0,
  "metadata": {
    "colab": {
      "provenance": [],
      "toc_visible": true
    },
    "kernelspec": {
      "name": "python3",
      "display_name": "Python 3"
    }
  },
  "cells": [
    {
      "metadata": {
        "id": "twegDvmq96UR"
      },
      "cell_type": "code",
      "source": [
        "import scipy\n",
        "import matplotlib.pyplot as plt\n",
        "import numpy as np\n",
        "import math"
      ],
      "execution_count": 34,
      "outputs": []
    },
    {
      "cell_type": "markdown",
      "source": [
        "# Poisson probability with the `scipy` library\n",
        "\n",
        "The following lines of code show the `scipy` implementation on how to compute the Poisson probability $P(x=k|\\lambda)$ of observing $x=k$ events when $\\lambda$ are expected:\n",
        "\n",
        "$$\n",
        "P(x=k|\\lambda)=\\frac{\\lambda^k e^{-\\lambda}}{k!}\n",
        "$$"
      ],
      "metadata": {
        "id": "Nyf2AOnx_V21"
      }
    },
    {
      "cell_type": "code",
      "source": [
        "k = 5\n",
        "_lambda = 4\n",
        "scipy.stats.poisson.pmf(k,_lambda)"
      ],
      "metadata": {
        "colab": {
          "base_uri": "https://localhost:8080/"
        },
        "id": "awIpboce_vwh",
        "outputId": "dd8cde17-b7e7-48ad-b3b2-980133ebe54a"
      },
      "execution_count": 35,
      "outputs": [
        {
          "output_type": "execute_result",
          "data": {
            "text/plain": [
              "0.1562934518505317"
            ]
          },
          "metadata": {},
          "execution_count": 35
        }
      ]
    },
    {
      "cell_type": "code",
      "source": [
        "k=np.arange(0,21,1)\n",
        "\n",
        "for _lambda in [2,4,10]:\n",
        "  poisson_prob = scipy.stats.poisson.pmf(k,_lambda)\n",
        "  plt.plot(k,poisson_prob,'o',label=f'$\\lambda$={_lambda}')\n",
        "\n",
        "plt.xlabel('$k$')\n",
        "plt.ylabel('$P(x=k|\\lambda)$')\n",
        "plt.legend()\n",
        "plt.show()"
      ],
      "metadata": {
        "colab": {
          "base_uri": "https://localhost:8080/",
          "height": 450
        },
        "id": "HRgbzhc2w27b",
        "outputId": "bec322b4-c3a0-4f62-a8ec-6cd30f79725a"
      },
      "execution_count": 36,
      "outputs": [
        {
          "output_type": "display_data",
          "data": {
            "text/plain": [
              "<Figure size 640x480 with 1 Axes>"
            ],
            "image/png": "[encoded data removed]"
          },
          "metadata": {}
        }
      ]
    },
    {
      "cell_type": "markdown",
      "source": [
        "# Preamble\n",
        "\n",
        "Consider a HEP experiment measuring an observable distributed in a 3-bin histogram.\n",
        "\n",
        "Monte-Carlo methods were used to simulate this observable for signal and background processes and theory was used to predict the total number of events expected for both, yielding:\n",
        "\n",
        "*   Expected signal: $S_i=\\{34,67,42\\}$\n",
        "*   Expected background: $B_i=\\{404,376,198\\}$\n",
        "\n",
        "The real data measurement was:\n",
        "\n",
        "*   Real data measurement: $N_i=\\{489,541,302\\}$"
      ],
      "metadata": {
        "id": "1ivJ34S6agMy"
      }
    },
    {
      "cell_type": "markdown",
      "source": [
        "# Exercise 1: Likelihood model\n",
        "\n",
        "Consider the likelihood model for the statistical analysis of the experiment above, consisting of:\n",
        "\n",
        "- A three-bin distribution of the observations\n",
        "- Two expected samples: a **signal sample** and a **background sample**\n",
        "- A normalization scaling factor $\\mu$, the **signal strength**, for the signal sample.\n",
        "\n",
        "The only parameter of interest in this likelihood model is $\\mu$ and there are no additional nuisance parameters."
      ],
      "metadata": {
        "id": "Qcnclxb-LyFH"
      }
    },
    {
      "cell_type": "markdown",
      "source": [
        "## 1a) Likelihood function\n",
        "\n",
        "Define a python function based on `scipy` to compute the likelihood model described above.\n"
      ],
      "metadata": {
        "id": "vtLcWNMeYNq2"
      }
    },
    {
      "cell_type": "code",
      "source": [
        "# The likelihood function is a product of the probability of observing N events for a Poisson distribution\n",
        "# with expected value given by the signal multiplied by a normalization factor (μ) plus background (there\n",
        "# are no additional nuisance parameters - no need to include the normalization factor for the background).\n",
        "import scipy\n",
        "import matplotlib.pyplot as plt\n",
        "import numpy as np\n",
        "import math\n",
        "\n",
        "def likelihood(Sig,Backg,mu,data):\n",
        "  likelihoodresult = 1\n",
        "  for i in range(len(data)):\n",
        "    expected = Sig[i]*mu + Backg[i]\n",
        "    likelihoodresult = likelihoodresult*scipy.stats.poisson.pmf(N[i],expected)\n",
        "  return likelihoodresult"
      ],
      "metadata": {
        "id": "8n0yHW8CvTX5"
      },
      "execution_count": 37,
      "outputs": []
    },
    {
      "cell_type": "markdown",
      "source": [
        "## 1b) Likelihood value for the observations\n",
        "Use the function defined in line 1a) to calculate the likelihood for the observations described in the preamble, given the theoretical expectations for the signal and the background also described there (i.e. assuming that the normalisation of the simulation is correct).\n"
      ],
      "metadata": {
        "id": "vIIY2r6NtxiN"
      }
    },
    {
      "cell_type": "code",
      "source": [
        "# In this exercise, since we assume the normalisation of the simulation is correct, μ = 1. The simulation\n",
        "# values (signal and background) and the real measurement data are in the preamble.\n",
        "Signal = np.array([34,67,42])\n",
        "Background = np.array([404,376,198])\n",
        "N = np.array([489,541,302])\n",
        "normfactor = 1\n",
        "val=likelihood(Signal,Background,normfactor,N)\n",
        "print(\"Assuming the normalisation of the simulation is correct, the likelihood is: {:.3e}.\".format(val))"
      ],
      "metadata": {
        "id": "udchkd-PZfLD",
        "colab": {
          "base_uri": "https://localhost:8080/"
        },
        "outputId": "9d6286c7-3d10-432f-819a-8c7432c07a58"
      },
      "execution_count": 38,
      "outputs": [
        {
          "output_type": "stream",
          "name": "stdout",
          "text": [
            "Assuming the normalisation of the simulation is correct, the likelihood is: 1.006e-14.\n"
          ]
        }
      ]
    },
    {
      "cell_type": "markdown",
      "source": [
        "# Exercise 2: Best-fit signal strength $\\hat{\\mu}$\n",
        "\n",
        "Consider the experiment and results described in the preamble."
      ],
      "metadata": {
        "id": "dEX5RkoQZjAy"
      }
    },
    {
      "cell_type": "markdown",
      "source": [
        "## 2a) $\\hat{\\mu}>1$  or  $\\hat{\\mu}<1$ ?\n",
        "\n",
        "Qualitatively, do you expect the best-fit value $\\hat{\\mu}$ to be larger or smaller than 1? Justify your answer."
      ],
      "metadata": {
        "id": "5jG0XbXdaRJg"
      }
    },
    {
      "cell_type": "markdown",
      "source": [
        "**Your answer:** Firstly, we can recall that N = μ*Signal + Background, where N is the measured data. As such, for the three bins, we can compute for each the μ value, i.e., μ = (N - Background)/Signal, which are 2.50, 2.46 and 2.48, respectively. As such, we can expect that μ is greater than 1."
      ],
      "metadata": {
        "id": "i1X-QhJIcCSG"
      }
    },
    {
      "cell_type": "markdown",
      "source": [
        "## 2b) Log-likelihood as a function of $\\mu$\n",
        "Draw the log-likelihood as a function of the parameter $\\mu$.\n"
      ],
      "metadata": {
        "id": "kDTZiYC53asI"
      }
    },
    {
      "cell_type": "code",
      "source": [
        "# We can use the function defined in 1.a) to define the one asked in this exercise and then we just plot it.\n",
        "# For the next exercise, we shall need the log-likelihood points; thus, when I computed them, I stored them\n",
        "# in an array, in order to be more efficient.\n",
        "# I proposed values of μ between 0 and 5 separated by a step of 0.001.\n",
        "def loglikelihood(mu):\n",
        "  arg = likelihood(Signal, Background, mu, N)\n",
        "  value = np.log(arg)\n",
        "  return value\n",
        "mus = np.arange(0, 5, 0.001)\n",
        "loglikelihoodvalue = np.zeros(len(mus))\n",
        "for i in range(len(mus)):\n",
        "  loglikelihoodvalue[i] = loglikelihood(mus[i])\n",
        "plt.plot(mus, loglikelihoodvalue, color='red')\n",
        "plt.xlabel(\"$\\mu$\")\n",
        "plt.ylabel(\"Log-likelihood\")\n",
        "plt.title(\"Log-likelihood as a function of the parameter $\\mu$\")\n",
        "plt.show()"
      ],
      "metadata": {
        "id": "Oe6G8mwV3jqy",
        "colab": {
          "base_uri": "https://localhost:8080/",
          "height": 475
        },
        "outputId": "2d3b3b2c-b247-434b-bac3-6fdd8edc3292"
      },
      "execution_count": 39,
      "outputs": [
        {
          "output_type": "display_data",
          "data": {
            "text/plain": [
              "<Figure size 640x480 with 1 Axes>"
            ],
            "image/png": "[encoded data removed]"
          },
          "metadata": {}
        }
      ]
    },
    {
      "cell_type": "markdown",
      "source": [
        "## 2c) Best-fit signal strength $\\hat{\\mu}$\n",
        "\n",
        "Find the approximate best-fit value of $\\hat{\\mu}$."
      ],
      "metadata": {
        "id": "fM4KmOQncJVt"
      }
    },
    {
      "cell_type": "code",
      "source": [
        "# We must find the value of μ that maximizes the log-likelihood function. As such, we find the maximum\n",
        "# value of the array that contains the log-likelihood points and then find the μ that leads to that value.\n",
        "maxlogindex = loglikelihoodvalue.argmax()\n",
        "mu_hat = mus[maxlogindex]\n",
        "plt.plot(mus, loglikelihoodvalue, color='red')\n",
        "plt.vlines(mu_hat,loglikelihoodvalue.min(), loglikelihoodvalue.max()*.99, color = 'blue')\n",
        "plt.xlabel(\"$\\mu$\")\n",
        "plt.ylabel(\"Log-likelihood\")\n",
        "plt.show()\n",
        "print(\"The best-fit value of μ-hat is: {:.2f}.\".format(mu_hat))"
      ],
      "metadata": {
        "id": "2sl7E-65cBAH",
        "colab": {
          "base_uri": "https://localhost:8080/",
          "height": 467
        },
        "outputId": "c83501d8-1ccb-4388-d81c-2d134c4a223d"
      },
      "execution_count": 40,
      "outputs": [
        {
          "output_type": "display_data",
          "data": {
            "text/plain": [
              "<Figure size 640x480 with 1 Axes>"
            ],
            "image/png": "[encoded data removed]"
          },
          "metadata": {}
        },
        {
          "output_type": "stream",
          "name": "stdout",
          "text": [
            "The best-fit value of μ-hat is: 2.47.\n"
          ]
        }
      ]
    },
    {
      "cell_type": "markdown",
      "source": [
        "## 2d) Uncertainty on $\\hat{\\mu}$\n",
        "\n",
        "Find the approximate value for the uncertainty on $\\hat{\\mu}$."
      ],
      "metadata": {
        "id": "F_M9U_veyGIW"
      }
    },
    {
      "cell_type": "code",
      "source": [
        "# Let us use the \"one-sigma\" uncertainty.\n",
        "# I assumed a gaussian likelihood, hence I only looked on one side.\n",
        "# For large samples, the likelihood is ~ a Gaussian (Central Limit Theorem).\n",
        "\n",
        "halflog = loglikelihood(mu_hat) - 1/2\n",
        "\n",
        "index_mu_uncertainty = np.argmin(np.abs(np.array(loglikelihoodvalue)-halflog))\n",
        "\n",
        "uncertainty = np.abs(mu_hat-mus[index_mu_uncertainty])\n",
        "\n",
        "print(\"The interval of uncertainty on μ is given by: {:.2f} ± {:.2f}.\".format(mu_hat, uncertainty))"
      ],
      "metadata": {
        "id": "I7oYtAJ-3v4S",
        "colab": {
          "base_uri": "https://localhost:8080/"
        },
        "outputId": "8ceba92a-2591-4fbb-8758-395bf5581dd4"
      },
      "execution_count": 41,
      "outputs": [
        {
          "output_type": "stream",
          "name": "stdout",
          "text": [
            "The interval of uncertainty on μ is given by: 2.47 ± 0.24.\n"
          ]
        }
      ]
    },
    {
      "cell_type": "markdown",
      "source": [
        "# Exercise 3: Significance calculation\n",
        "\n",
        "Assuming the expression for a counting experiment, calculate the expected and observed signal significance taking into account the total number of signal, background or observed events (as needed)."
      ],
      "metadata": {
        "id": "Fx6Cfayf5TLS"
      }
    },
    {
      "cell_type": "markdown",
      "source": [
        "## 3a) Expected significance\n"
      ],
      "metadata": {
        "id": "6uIAMnyT5cY-"
      }
    },
    {
      "cell_type": "code",
      "source": [
        "# Since it is a counting experiment, we can use the formula S/sqrt[S+B], where S is the expected/observed\n",
        "# signal and B is the expected/observed background for the expected/observed significance.\n",
        "\n",
        "expectedtotalsignal=Signal.sum()\n",
        "expectedtotalbackground = Background.sum()\n",
        "expectedsignificance = expectedtotalsignal/np.sqrt(expectedtotalsignal + expectedtotalbackground)\n",
        "print(\"Expected significance:{:.2f}.\".format(expectedsignificance))"
      ],
      "metadata": {
        "id": "sRt0DIYB5h8T",
        "colab": {
          "base_uri": "https://localhost:8080/"
        },
        "outputId": "b0c855ad-5967-48db-8411-d13489eb1e1f"
      },
      "execution_count": 42,
      "outputs": [
        {
          "output_type": "stream",
          "name": "stdout",
          "text": [
            "Expected significance:4.27.\n"
          ]
        }
      ]
    },
    {
      "cell_type": "markdown",
      "source": [
        "## 3b) Observed significance"
      ],
      "metadata": {
        "id": "biQZKgbO5kLy"
      }
    },
    {
      "cell_type": "code",
      "source": [
        "# For the observed significance, we use mu_hat (best-fit signal strength), instead of mu = 1 (expected\n",
        "# significance.\n",
        "\n",
        "observedsignificance = mu_hat*expectedtotalsignal/np.sqrt(mu_hat*expectedtotalsignal+expectedtotalbackground)\n",
        "print(\"Observed significance:{:.2f}.\".format(observedsignificance))"
      ],
      "metadata": {
        "id": "lzV5AVom5myC",
        "colab": {
          "base_uri": "https://localhost:8080/"
        },
        "outputId": "a3b3a082-d471-4f74-9468-ea36e46f07fd"
      },
      "execution_count": 43,
      "outputs": [
        {
          "output_type": "stream",
          "name": "stdout",
          "text": [
            "Observed significance:9.69.\n"
          ]
        }
      ]
    },
    {
      "cell_type": "code",
      "source": [],
      "metadata": {
        "id": "N8CS7eLfSyAO"
      },
      "execution_count": 43,
      "outputs": []
    }
  ]
}